{
 "cells": [
  {
   "cell_type": "markdown",
   "metadata": {},
   "source": []
  }
 ],
 "metadata": {
  "kernelspec": {
   "display_name": "Python 3.11.0 64-bit",
   "language": "python",
   "name": "python3"
  },
  "language_info": {
   "name": "python",
   "version": "3.11.0"
  },
  "orig_nbformat": 4,
  "vscode": {
   "interpreter": {
    "hash": "31064f0ec02ac087b4831bd6b19791d97129bf50750d7b3887cc01c31f8b4b70"
   }
  }
 },
 "nbformat": 4,
 "nbformat_minor": 2
}
