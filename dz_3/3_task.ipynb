{
 "cells": [
  {
   "cell_type": "markdown",
   "metadata": {},
   "source": [
    "Настроить а/б тест на сайте с 3-мя изменениями https://telegram-feedback.com/"
   ]
  },
  {
   "cell_type": "markdown",
   "metadata": {},
   "source": [
    "Решение:"
   ]
  },
  {
   "cell_type": "markdown",
   "metadata": {},
   "source": [
    "Воспользуемся следующим алгоритмом :"
   ]
  },
  {
   "cell_type": "markdown",
   "metadata": {},
   "source": [
    "* Переход на страницу https://optimize.google.com/ \n",
    "* Создание аккаунта\n",
    "* Нажатие ‘Начать’ (cтраница ‘Создайте проект оптимизации’)\n",
    "* Указание названия и URL\n",
    "* Выбор проекта оптимизации, который хотим создать\n",
    "* Создание вариантов сайта для тестирования\n",
    "* Внесение необходимых изменений на сайт\n",
    "* Настройка аудитории\n",
    "\n",
    "![](1.JPG)"
   ]
  },
  {
   "cell_type": "markdown",
   "metadata": {},
   "source": [
    "* Установка связи с Google Analytics\n",
    "* Настройка цели\n",
    "* Проверка связи страницы с Google Optimize"
   ]
  }
 ],
 "metadata": {
  "kernelspec": {
   "display_name": "Python 3.11.0 64-bit",
   "language": "python",
   "name": "python3"
  },
  "language_info": {
   "name": "python",
   "version": "3.11.0"
  },
  "orig_nbformat": 4,
  "vscode": {
   "interpreter": {
    "hash": "31064f0ec02ac087b4831bd6b19791d97129bf50750d7b3887cc01c31f8b4b70"
   }
  }
 },
 "nbformat": 4,
 "nbformat_minor": 2
}
